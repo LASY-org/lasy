{
 "cells": [
  {
   "cell_type": "markdown",
   "id": "05402e6d",
   "metadata": {},
   "source": [
    "# Laser from longitudinal (FROG data) and transverse profile"
   ]
  },
  {
   "cell_type": "markdown",
   "id": "1a41f95c",
   "metadata": {},
   "source": [
    "In this tutorial, you will learn to create a Laser from experimental measurements of the laser spectrum and 2D image of the transverse intensity profile."
   ]
  },
  {
   "cell_type": "code",
   "execution_count": null,
   "id": "e401ede1-0719-49e4-b84d-5bd0f0813c80",
   "metadata": {},
   "outputs": [],
   "source": [
    "# For VS code\n",
    "%matplotlib inline\n",
    "# For jupyter notbook use \"%matplotlib ipympl\""
   ]
  },
  {
   "cell_type": "markdown",
   "id": "ad686162",
   "metadata": {},
   "source": [
    "Now lets load all the required packages for the tutorial."
   ]
  },
  {
   "cell_type": "code",
   "execution_count": null,
   "id": "dcf32943-cf31-42c3-995c-2ed75c9761d2",
   "metadata": {},
   "outputs": [],
   "source": [
    "from lasy.laser import Laser\n",
    "from lasy.profiles.combined_profile import CombinedLongitudinalTransverseProfile\n",
    "from lasy.profiles.longitudinal import LongitudinalProfileFromData\n",
    "from lasy.profiles.transverse import TransverseProfileFromData\n",
    "from lasy.profiles.transverse.hermite_gaussian_profile import HermiteGaussianTransverseProfile\n",
    "from lasy.utils.mode_decomposition import hermite_gauss_decomposition\n",
    "from mpl_toolkits.axes_grid1 import make_axes_locatable\n",
    "import matplotlib.pyplot as plt\n",
    "import numpy as np\n",
    "import skimage                  # Required for the image processing."
   ]
  },
  {
   "cell_type": "markdown",
   "id": "c1e972d0",
   "metadata": {},
   "source": [
    "Next, let's define the physical parameters defining our laser pulse. "
   ]
  },
  {
   "cell_type": "code",
   "execution_count": null,
   "id": "e4a2fd86-a83f-490e-9e10-21d0e3ca7c4d",
   "metadata": {},
   "outputs": [],
   "source": [
    "polarization    = (1, 0)        # Linearly polarized in the x direction\n",
    "energy_J        = 1             # Pulse energy in Joules\n",
    "cal             = 0.2e-6        # Pixel size calibration term"
   ]
  },
  {
   "cell_type": "markdown",
   "id": "f88ab1e4-1f5a-4f07-8b7c-4c105b4aa9eb",
   "metadata": {},
   "source": [
    "## Reconstruct longitudinal profile"
   ]
  },
  {
   "cell_type": "markdown",
   "id": "e6321294",
   "metadata": {},
   "source": [
    "Here as a input file we would be using data recorded using [Frequency-resolved optical grating (FROG)](https://en.wikipedia.org/wiki/Frequency-resolved_optical_gating) techinique. This would provide us with the spectral phase, intensity and frequency (This has been converted to wavelength)."
   ]
  },
  {
   "cell_type": "code",
   "execution_count": null,
   "id": "7ee0575d",
   "metadata": {},
   "outputs": [],
   "source": [
    "# Load the data from online datasheet\n",
    "data_file_csv  = \"https://github.com/user-attachments/files/17042670/df_intensity_spectral.csv\"\n",
    "\n",
    "# Read data from the file, in SI units\n",
    "exp_wavelength = np.loadtxt(data_file_csv, usecols=0, dtype=\"float\")\n",
    "exp_spectrum   = np.loadtxt(data_file_csv, usecols=1, dtype=\"float\")   # Arbitary units\n",
    "exp_phase      = np.loadtxt(data_file_csv, usecols=2, dtype=\"float\")"
   ]
  },
  {
   "cell_type": "markdown",
   "id": "6b2b6ab4",
   "metadata": {},
   "source": [
    "Now, let's fininsh the reconstuction by initializing a LASY LongitudinalProfile from experimentally measured spectrum. The central wavelength used below, is calculated in this step."
   ]
  },
  {
   "cell_type": "code",
   "execution_count": null,
   "id": "e70f703e-15a3-4751-a857-71b17651671a",
   "metadata": {},
   "outputs": [],
   "source": [
    "longitudinal_data = {\n",
    "    \"datatype\"    : \"spectral\",\n",
    "    \"axis\"        : exp_wavelength,    # Make sure that this parameter is monotonically increasing\n",
    "    \"intensity\"   : exp_spectrum,\n",
    "    \"phase\"       : exp_phase,         # Radians\n",
    "    \"dt\"          : 1e-15,             # Temporal resolution (only required if datatype is spectral)\n",
    "}\n",
    "\n",
    "# Create the longitudinal profile\n",
    "longitudinal_profile      = LongitudinalProfileFromData(\n",
    "    longitudinal_data, lo = -200e-15, hi = 200e-15\n",
    ")"
   ]
  },
  {
   "cell_type": "markdown",
   "id": "1ba9ced4-cc19-48ba-9fec-ddcb6e77128b",
   "metadata": {},
   "source": [
    "## Reconstruct transverse profile"
   ]
  },
  {
   "cell_type": "markdown",
   "id": "70d133d0",
   "metadata": {},
   "source": [
    "For the following reconstruction the data is provided in the .png format, which can be read using scikit image package."
   ]
  },
  {
   "cell_type": "code",
   "execution_count": null,
   "id": "bcfff530-c04b-4d28-977c-8143ffe87c62",
   "metadata": {},
   "outputs": [],
   "source": [
    "# Define the transverse profile of the laser pulse\n",
    "data_file_img   = \"https://user-images.githubusercontent.com/27694869/228038930-d6ab03b1-a726-4b41-a378-5f4a83dc3778.png\"\n",
    "intensity_data  = skimage.io.imread(data_file_img)\n",
    "\n",
    "# Data cleaning: Remove negative values\n",
    "intensity_scale = np.max(intensity_data)                    # Maximum value of the intensity\n",
    "intensity_data[intensity_data < intensity_scale / 100] = 0  # Remove negative values and potential noise.[Recommended: 1% of the maximum value!]"
   ]
  },
  {
   "cell_type": "code",
   "execution_count": null,
   "id": "ac17f984",
   "metadata": {},
   "outputs": [],
   "source": [
    "# Axes\n",
    "nx, ny          = (intensity_data.shape)\n",
    "lo              = (0, 0)                             # Lower bound   \n",
    "hi              = (ny * cal, nx * cal)               # Upper bound"
   ]
  },
  {
   "cell_type": "markdown",
   "id": "47eb6fa8",
   "metadata": {},
   "source": [
    "As done earlier for the longitudinal profile, we would construct the transverse profile using extracted data.\\\n",
    "*[This function also centers the data by default]*"
   ]
  },
  {
   "cell_type": "code",
   "execution_count": null,
   "id": "ea8b598c-1341-4669-ad5d-543d7842a910",
   "metadata": {},
   "outputs": [],
   "source": [
    "transverse_profile = TransverseProfileFromData(\n",
    "    intensity_data, [lo[0], lo[1]], [hi[0], hi[1]]\n",
    ")"
   ]
  },
  {
   "cell_type": "code",
   "execution_count": null,
   "id": "12b0d5eb-ad0a-4777-ae82-d612eba69fb0",
   "metadata": {},
   "outputs": [],
   "source": [
    "# Plotting the data\n",
    "fig, ax     = plt.subplots()\n",
    "cax         = ax.imshow(\n",
    "    intensity_data,\n",
    "    aspect  = \"auto\",\n",
    "    extent  = [lo[0], hi[0], lo[1], hi[1]],\n",
    ")\n",
    "\n",
    "# Add color bar and labels\n",
    "color_bar   = fig.colorbar(cax)\n",
    "color_bar.set_label(r\"Fluence  (J/cm$^2$)\")\n",
    "ax.set_xlabel(r\"x / micron\")\n",
    "ax.set_ylabel(r\"y / micron\")\n",
    "plt.show()"
   ]
  },
  {
   "cell_type": "markdown",
   "id": "dd87054b-ab2c-4591-be03-c6bfeae859a1",
   "metadata": {},
   "source": [
    "## Combine longitudinal and transverse profiles"
   ]
  },
  {
   "cell_type": "code",
   "execution_count": null,
   "id": "ab6ecbd2-0b4e-4251-8709-ce741dc4174e",
   "metadata": {},
   "outputs": [],
   "source": [
    "raw_laser_profile   = CombinedLongitudinalTransverseProfile(\n",
    "    wavelength      = longitudinal_profile.lambda0,\n",
    "    pol             = polarization,\n",
    "    laser_energy    = energy_J,\n",
    "    long_profile    = longitudinal_profile,\n",
    "    trans_profile   = transverse_profile,\n",
    ")"
   ]
  },
  {
   "cell_type": "markdown",
   "id": "3d55f0ea-a2ea-4157-895f-5d5681403851",
   "metadata": {},
   "source": [
    "## Profile denoising\n",
    "LASY functions can be used for denoising/cleaning. Here, the measured profile is decomposed into Hermite-Gauss modes, and the cleaning is obtained by keeping only the first few modes. \n",
    "Take a look at the following [example](https://github.com/LASY-org/lasy/blob/13f0e4515493deca36c1375be1d9e83c7e379d42/examples/example_modal_decomposition_data.py)."
   ]
  },
  {
   "cell_type": "code",
   "execution_count": null,
   "id": "82a8a391-c4f1-473f-928e-cc18524e1cec",
   "metadata": {},
   "outputs": [],
   "source": [
    "# Maximum Hermite-Gauss mode index in x and y\n",
    "n_modes_x = 2\n",
    "n_modes_y = 2\n",
    "\n",
    "# Calculate the decomposition and waist of the laser pulse\n",
    "modeCoeffs, waist = hermite_gauss_decomposition(\n",
    "    transverse_profile, n_x_ma = n_modes_x, n_y_max = n_modes_y, res = cal\n",
    ")"
   ]
  },
  {
   "cell_type": "markdown",
   "id": "e179dcf3",
   "metadata": {},
   "source": [
    "Construct the filtered profile by summing the first few Hermite-Gauss modes."
   ]
  },
  {
   "cell_type": "code",
   "execution_count": null,
   "id": "57c41677-70de-4163-a951-389353236b25",
   "metadata": {},
   "outputs": [],
   "source": [
    "energy_frac = 0\n",
    "for i, mode_key in enumerate(list(modeCoeffs)):\n",
    "    tmp_transverse_profile = HermiteGaussianTransverseProfile(\n",
    "        waist, mode_key[0], mode_key[1]\n",
    "    )\n",
    "    energy_frac += modeCoeffs[mode_key] ** 2        # Energy fraction of the mode\n",
    "    if i == 0:                                      # First mode (0,0)\n",
    "        laser_profile_cleaned = modeCoeffs[mode_key] * CombinedLongitudinalTransverseProfile(\n",
    "            longitudinal_profile.lambda0,\n",
    "            polarization,\n",
    "            energy_J,\n",
    "            longitudinal_profile,\n",
    "            tmp_transverse_profile,\n",
    "        )\n",
    "    else:                                           # All other modes\n",
    "        laser_profile_cleaned += modeCoeffs[mode_key] * CombinedLongitudinalTransverseProfile(\n",
    "            longitudinal_profile.lambda0,\n",
    "            polarization,\n",
    "            energy_J,\n",
    "            longitudinal_profile,\n",
    "            tmp_transverse_profile,\n",
    "        )\n",
    "\n",
    "# Energy loss due to decomposition\n",
    "energy_loss = 1 - energy_frac\n",
    "print(f\"Energy loss: {energy_loss * 100:.2f}%\")"
   ]
  },
  {
   "cell_type": "code",
   "execution_count": null,
   "id": "fcb44ccf-ad2b-4a9b-bc19-9f615d057335",
   "metadata": {},
   "outputs": [],
   "source": [
    "# Plot the original and denoised profiles\n",
    "# Create a grid for plotting\n",
    "x               = np.linspace(-5 * waist, 5 * waist, 500)\n",
    "X, Y            = np.meshgrid(x, x)\n",
    "\n",
    "# Determine the figure parameters\n",
    "fig, ax         = plt.subplots(1, 3, figsize=(12, 4), tight_layout=True)\n",
    "fig.suptitle(\n",
    "    \"Hermite-Gauss Reconstruction using n_x_max = %i, n_y_max = %i\" % (n_x_max, n_y_max)\n",
    ")\n",
    "\n",
    "# Plot the original profile\n",
    "pltextent       = (np.min(x) * 1e6, np.max(x) * 1e6, np.min(x) * 1e6, np.max(x) * 1e6)\n",
    "prof1           = np.abs(raw_laser_profile.evaluate(X, Y, 0)) ** 2\n",
    "divider0        = make_axes_locatable(ax[0])\n",
    "ax0_cb          = divider0.append_axes(\"right\", size=\"5%\", pad=0.05)\n",
    "pl0             = ax[0].imshow(prof1, cmap=\"magma\", extent=pltextent, vmin=0, vmax=np.max(prof1))\n",
    "cbar0           = fig.colorbar(pl0, cax=ax0_cb)\n",
    "cbar0.set_label(\"Intensity (norm.)\")\n",
    "ax[0].set_xlabel(\"x (micron)\")\n",
    "ax[0].set_ylabel(\"y (micron)\")\n",
    "ax[0].set_title(\"Original Profile\")\n",
    "\n",
    "# Plot the reconstructed profile\n",
    "prof2           = np.abs(laser_profile_cleaned.evaluate(X, Y, 0)) ** 2\n",
    "divider1        = make_axes_locatable(ax[1])\n",
    "ax1_cb          = divider1.append_axes(\"right\", size=\"5%\", pad=0.05)\n",
    "pl1             = ax[1].imshow(prof2, cmap=\"magma\", extent=pltextent, vmin=0, vmax=np.max(prof1))\n",
    "cbar1           = fig.colorbar(pl1, cax=ax1_cb)\n",
    "cbar1.set_label(\"Intensity (norm.)\")\n",
    "ax[1].set_xlabel(\"x (micron)\")\n",
    "ax[1].set_ylabel(\"y (micron)\")\n",
    "ax[1].set_title(\"Reconstructed Profile\")\n",
    "\n",
    "# Plot the error\n",
    "prof3           = (prof1 - prof2) / np.max(prof1)  # Normalized error\n",
    "divider2        = make_axes_locatable(ax[2])\n",
    "ax2_cb          = divider2.append_axes(\"right\", size=\"5%\", pad=0.05)\n",
    "pl2             = ax[2].imshow(100 * np.abs(prof3), cmap=\"magma\", extent=pltextent)\n",
    "cbar2           = fig.colorbar(pl2, cax=ax2_cb)\n",
    "cbar2.set_label(\"|Intensity Error| (%)\")\n",
    "ax[2].set_xlabel(\"x (micron)\")\n",
    "ax[2].set_ylabel(\"y (micron)\")\n",
    "ax[2].set_title(\"Error\")\n",
    "\n",
    "plt.show()"
   ]
  },
  {
   "cell_type": "markdown",
   "id": "103c9501-3e91-4f9b-a0bb-d3a5e2320d0c",
   "metadata": {},
   "source": [
    "## Create a laser"
   ]
  },
  {
   "cell_type": "markdown",
   "id": "db52cd0e",
   "metadata": {},
   "source": [
    "Now we have done the hard part!\\\n",
    "From the cleaned profile, we can create a LASY Laser object (3D cartesian or cylindrical geometry) and write to a file that can be read from compliant codes!!!\\\n",
    "*Constructing the object using 3D geometry, might take a while to run depending on the hardware you are using.*"
   ]
  },
  {
   "cell_type": "code",
   "execution_count": null,
   "id": "6b0f1ffd",
   "metadata": {},
   "outputs": [],
   "source": [
    "dimensions      = \"xyt\"                         # Use 3D geometry\n",
    "lo              = (-40e-6, -20e-6, -50e-15)     # Lower bounds of the simulation box\n",
    "hi              = (40e-6,   20e-6,  50e-15)     # Upper bounds of the simulation box\n",
    "num_points      = (300, 300, 200)               # Number of points in each dimension\n",
    "# num_points    = (50, 50, 20)                  # Low res for quick tests\n",
    "\n",
    "laser_xyt       = Laser(dimensions, lo, hi, num_points, laser_profile_cleaned)  # Laser\n",
    "laser_xyt.normalize(energy_J * energy_frac)                                     # Normalize the laser energy\n",
    "laser_xyt.show()\n",
    "\n",
    "# Save the laser object to a file\n",
    "laser_xyt.write_to_file(\"Laser_xyt_denoised\",\"h5\",save_as_vector_potential=True)"
   ]
  },
  {
   "cell_type": "code",
   "execution_count": null,
   "id": "07be1792",
   "metadata": {},
   "outputs": [],
   "source": [
    "# Create the laser object in cylindrical geometry and propagate it backwards\n",
    "dimensions  = \"rt\"                  # Use cylindrical geometry\n",
    "lo          = (0,    -50e-15)       \n",
    "hi          = (40e-6, 50e-15)       \n",
    "num_points  = (500, 400)            \n",
    "\n",
    "laser       = Laser(dimensions, lo, hi, num_points, laser_profile_cleaned)    \n",
    "laser.normalize(energy_J * energy_frac)                                 \n",
    "laser.propagate(-100e-6)            # Propagate the laser pulse backwards\n",
    "laser.show()\n",
    "\n",
    "# Save the laser object to a file\n",
    "laser.write_to_file(\"Laser_rt_propagated\",\"h5\",save_as_vector_potential=True)"
   ]
  }
 ],
 "metadata": {
  "kernelspec": {
   "display_name": "Python 3 (ipykernel)",
   "language": "python",
   "name": "python3"
  },
  "language_info": {
   "codemirror_mode": {
    "name": "ipython",
    "version": 3
   },
   "file_extension": ".py",
   "mimetype": "text/x-python",
   "name": "python",
   "nbconvert_exporter": "python",
   "pygments_lexer": "ipython3",
   "version": "3.12.2"
  }
 },
 "nbformat": 4,
 "nbformat_minor": 5
}
