{
 "cells": [
  {
   "cell_type": "markdown",
   "id": "05402e6d",
   "metadata": {},
   "source": [
    "# Laser from longitudinal(FROG data) and transverse profile"
   ]
  },
  {
   "cell_type": "markdown",
   "id": "1a41f95c",
   "metadata": {},
   "source": [
    "Following tutorial would be an excellent example of the practical capabalities and ease of use of LASY. In this tutorial we would try to reconstruct a laser pulse for its longitudinal and transverse profile after further denoising of the later.\n",
    "\n",
    "The tutorial would be proceed with following steps:\\\n",
    "**Step 1:** Load the required packges and define the required parameters.\\\n",
    "**Step 2:** Reconstruct the longitudinal profile.\\\n",
    "**Step 3:** Reconstruct the transverse profile.\\\n",
    "**Step 4:** Combine both the profiles.\\\n",
    "**Step 5:** Denoise the combined profile.\\\n",
    "**Step 6:** Plot both the original and denoised profile.\\\n",
    "**Step 7:** Generate a laser object and export it.\n"
   ]
  },
  {
   "cell_type": "code",
   "execution_count": null,
   "id": "e401ede1-0719-49e4-b84d-5bd0f0813c80",
   "metadata": {},
   "outputs": [],
   "source": [
    "# For VS code\n",
    "%matplotlib inline\n",
    "# For jupyter notbook use \"%matplotlib ipympl\""
   ]
  },
  {
   "cell_type": "markdown",
   "id": "784ed1ea",
   "metadata": {},
   "source": [
    "[scikit-image](https://scikit-image.org) is required for the image processing, as the inpute data file for transverse modes is a png. Running the command below will install the package through conda. "
   ]
  },
  {
   "cell_type": "code",
   "execution_count": null,
   "id": "e4706a1c-1a01-4706-9938-022bde1a816f",
   "metadata": {},
   "outputs": [],
   "source": [
    "# %conda install -c conda-forge -y scikit-image"
   ]
  },
  {
   "cell_type": "markdown",
   "id": "ad686162",
   "metadata": {},
   "source": [
    "Now lets load all the required packages for the tutorial. Which would include packages for both laser manipulation and to produce a final grapical output."
   ]
  },
  {
   "cell_type": "code",
   "execution_count": null,
   "id": "dcf32943-cf31-42c3-995c-2ed75c9761d2",
   "metadata": {},
   "outputs": [],
   "source": [
    "# Required LASY Libraries\n",
    "from lasy.laser import Laser\n",
    "from lasy.profiles.combined_profile import CombinedLongitudinalTransverseProfile\n",
    "from lasy.profiles.longitudinal import LongitudinalProfileFromData\n",
    "from lasy.profiles.transverse import TransverseProfileFromData\n",
    "from lasy.profiles.transverse.hermite_gaussian_profile import (\n",
    "    HermiteGaussianTransverseProfile,\n",
    ")\n",
    "from lasy.utils.mode_decomposition import hermite_gauss_decomposition\n",
    "\n",
    "# Standard Libraries\n",
    "import matplotlib.pyplot as plt\n",
    "import numpy as np\n",
    "import skimage\n",
    "from mpl_toolkits.axes_grid1 import make_axes_locatable"
   ]
  },
  {
   "cell_type": "markdown",
   "id": "c1e972d0",
   "metadata": {},
   "source": [
    "Next, let's define the physical parameters defining our laser pulse. "
   ]
  },
  {
   "cell_type": "code",
   "execution_count": null,
   "id": "e4a2fd86-a83f-490e-9e10-21d0e3ca7c4d",
   "metadata": {},
   "outputs": [],
   "source": [
    "polarization    = (1, 0)        # Linearly polarized in the x direction\n",
    "energy_J        = 1             # Pulse energy in Joules"
   ]
  },
  {
   "cell_type": "markdown",
   "id": "f88ab1e4-1f5a-4f07-8b7c-4c105b4aa9eb",
   "metadata": {},
   "source": [
    "## Reconstruct the longitudinal profile"
   ]
  },
  {
   "cell_type": "markdown",
   "id": "e6321294",
   "metadata": {},
   "source": [
    "Here as a input file we would be using data recorded using [Frequency-resolved optical gating(FROG)](https://en.wikipedia.org/wiki/Frequency-resolved_optical_gating) techinique. This would provide us with the spectral phase, intensity and frequency(This has been converted to wavelength) which would be vital for our reconstruction."
   ]
  },
  {
   "cell_type": "code",
   "execution_count": null,
   "id": "7ee0575d",
   "metadata": {},
   "outputs": [],
   "source": [
    "# Load the data\n",
    "data_file = np.loadtxt(\n",
    "    \"https://github.com/user-attachments/files/17042670/df_intensity_spectral.csv\",\n",
    "    delimiter=\"\\t\",\n",
    ")\n",
    "filename = (\n",
    "    \"https://github.com/user-attachments/files/17042670/df_intensity_spectral.csv\"\n",
    ")\n",
    "\n",
    "# Extract the required data\n",
    "E_wavelength = np.loadtxt(filename, usecols=0, dtype=\"float\")   # Wavelength in meters\n",
    "E_intensity = np.loadtxt(filename, usecols=1, dtype=\"float\")    # Electric field intensity\n",
    "E_phase = np.loadtxt(filename, usecols=2, dtype=\"float\")        # Electric field phase in radians"
   ]
  },
  {
   "cell_type": "markdown",
   "id": "6b2b6ab4",
   "metadata": {},
   "source": [
    "Now, lets fininsh the reconstuction by creating a longitudinal profile from all the available data."
   ]
  },
  {
   "cell_type": "code",
   "execution_count": null,
   "id": "e70f703e-15a3-4751-a857-71b17651671a",
   "metadata": {},
   "outputs": [],
   "source": [
    "fs = 1e-15                          # Femtoseconds\n",
    "longitudinal_data = {\n",
    "    \"datatype\": \"spectral\",\n",
    "    \"axis\": E_wavelength,           # Make sure that this parameter is monotonically increasing\n",
    "    \"intensity\": E_intensity,\n",
    "    \"phase\": E_phase,               # Radians\n",
    "    \"dt\": fs,                       # User defined tmeporal resolution(only required if datatype is spectral)\n",
    "}\n",
    "\n",
    "# Create the longitudinal profile\n",
    "longitudinal_profile = LongitudinalProfileFromData(\n",
    "    longitudinal_data, lo=-200 * fs, hi=200 * fs\n",
    ")"
   ]
  },
  {
   "cell_type": "markdown",
   "id": "1ba9ced4-cc19-48ba-9fec-ddcb6e77128b",
   "metadata": {},
   "source": [
    "## Reconstruct the transverse profile"
   ]
  },
  {
   "cell_type": "markdown",
   "id": "70d133d0",
   "metadata": {},
   "source": [
    "For the following reconstruction the data is provided in the .png format, which can be read using scikit image package.(*please uncomment and run the second code block if the package is not installed*)"
   ]
  },
  {
   "cell_type": "code",
   "execution_count": null,
   "id": "bcfff530-c04b-4d28-977c-8143ffe87c62",
   "metadata": {},
   "outputs": [],
   "source": [
    "# Define the transverse profile of the laser pulse\n",
    "img             = \"https://user-images.githubusercontent.com/27694869/228038930-d6ab03b1-a726-4b41-a378-5f4a83dc3778.png\"\n",
    "transverse_data = skimage.io.imread(img)\n",
    "\n",
    "# Data cleaning: Remove negative values\n",
    "intensity_scale = np.max(transverse_data)                     # Determine the maximum value of the intensity within the image/data.\n",
    "transverse_data[transverse_data < intensity_scale / 100] = 0  # Remove negative values and potential noise.[Recommended: 1% of the maximum value!]\n"
   ]
  },
  {
   "cell_type": "code",
   "execution_count": null,
   "id": "ac17f984",
   "metadata": {},
   "outputs": [],
   "source": [
    "# Pixel size calibration term\n",
    "cal             = 0.2e-6                                        # This scale factor comes from a rough estimate.\n",
    "\n",
    "# Axes\n",
    "rows, cols      = (transverse_data.shape)                       # Number of rows and columns, as per sensor dimensions\n",
    "transverse_x_mu = np.linspace(0, cols - 1, cols) * cal\n",
    "transverse_y_mu = np.linspace(0, rows - 1, rows) * cal\n",
    "lo              = (transverse_x_mu[0], transverse_y_mu[0])      # Lower bound\n",
    "hi              = (transverse_x_mu[-1], transverse_y_mu[-1])    # Upper bound"
   ]
  },
  {
   "cell_type": "markdown",
   "id": "47eb6fa8",
   "metadata": {},
   "source": [
    "As done earlier for the longitudinal profile, we would construct the transverse profile using extracted data.\\\n",
    "*[This function also centers the data by default]*"
   ]
  },
  {
   "cell_type": "code",
   "execution_count": null,
   "id": "ea8b598c-1341-4669-ad5d-543d7842a910",
   "metadata": {},
   "outputs": [],
   "source": [
    "transverse_profile = TransverseProfileFromData(\n",
    "    transverse_data, [lo[0], lo[1]], [hi[0], hi[1]]\n",
    ")"
   ]
  },
  {
   "cell_type": "markdown",
   "id": "0e287dd0",
   "metadata": {},
   "source": [
    "Here we would plot the data(uncetered) which we have processed in the above cells. This step is not necessay but acts as a sanity check for us."
   ]
  },
  {
   "cell_type": "code",
   "execution_count": null,
   "id": "12b0d5eb-ad0a-4777-ae82-d612eba69fb0",
   "metadata": {},
   "outputs": [],
   "source": [
    "# Plotting the data\n",
    "fig, ax = plt.subplots()\n",
    "cax = ax.imshow(\n",
    "    transverse_data,\n",
    "    aspect=\"auto\",\n",
    "    extent=[lo[0], hi[0], lo[1], hi[1]],\n",
    ")\n",
    "\n",
    "# Add a colorbar\n",
    "color_bar = fig.colorbar(cax)\n",
    "\n",
    "# Add a label to the colorbar\n",
    "color_bar.set_label(r\"Fluence / J/cm$^2$\")\n",
    "ax.set_xlabel(r\"x / m\")\n",
    "ax.set_ylabel(r\"y / m\")\n",
    "plt.show()"
   ]
  },
  {
   "cell_type": "markdown",
   "id": "dd87054b-ab2c-4591-be03-c6bfeae859a1",
   "metadata": {},
   "source": [
    "# Combine both the profiles"
   ]
  },
  {
   "cell_type": "code",
   "execution_count": null,
   "id": "ab6ecbd2-0b4e-4251-8709-ce741dc4174e",
   "metadata": {},
   "outputs": [],
   "source": [
    "central_wavelength  = longitudinal_profile.lambda0  # This is central wavelength of the pulse, calcuated during the longitudinal profile construction\n",
    "\n",
    "# Original laser profile with the combined longitudinal and transverse profiles\n",
    "org_laser_profile   = CombinedLongitudinalTransverseProfile(\n",
    "    wavelength      =longitudinal_profile.lambda0,\n",
    "    pol             =polarization,\n",
    "    laser_energy    =energy_J,\n",
    "    long_profile    =longitudinal_profile,\n",
    "    trans_profile   =transverse_profile,\n",
    ")"
   ]
  },
  {
   "cell_type": "markdown",
   "id": "3d55f0ea-a2ea-4157-895f-5d5681403851",
   "metadata": {},
   "source": [
    "# Profile denoising\n",
    "At this stage we would denoise the profiles using Hermite-Gauss modes and combine them afterwards. \n",
    "Take a look at the following [example](https://github.com/LASY-org/lasy/blob/13f0e4515493deca36c1375be1d9e83c7e379d42/examples/example_modal_decomposition_data.py)."
   ]
  },
  {
   "cell_type": "code",
   "execution_count": null,
   "id": "82a8a391-c4f1-473f-928e-cc18524e1cec",
   "metadata": {},
   "outputs": [],
   "source": [
    "# Maximum Hermite-Gauss mode index in x and y (The choise of this parameter is arbitrary)\n",
    "n_x_max = 2\n",
    "n_y_max = 2\n",
    "\n",
    "# Calculate the decomposition and waist of the laser pulse\n",
    "modeCoeffs, waist = hermite_gauss_decomposition(\n",
    "    transverse_profile, n_x_max=n_x_max, n_y_max=n_y_max, res=cal\n",
    ")"
   ]
  },
  {
   "cell_type": "markdown",
   "id": "e179dcf3",
   "metadata": {},
   "source": [
    "*Do check if the estimated value of the waist is sensible. If not, do check if the transverse profile reconstruction is done properly.*"
   ]
  },
  {
   "cell_type": "code",
   "execution_count": null,
   "id": "57c41677-70de-4163-a951-389353236b25",
   "metadata": {},
   "outputs": [],
   "source": [
    "# Reconstruct the pulse using a series of hermite-gauss modes\n",
    "energy_frac = 0\n",
    "for i, mode_key in enumerate(list(modeCoeffs)):\n",
    "    tmp_transverse_profile = HermiteGaussianTransverseProfile(\n",
    "        waist, mode_key[0], mode_key[1]\n",
    "    )\n",
    "    energy_frac += modeCoeffs[mode_key] ** 2        # Energy fraction of the mode\n",
    "    if i == 0:                                      # First mode (0,0)\n",
    "        laser_profile = modeCoeffs[mode_key] * CombinedLongitudinalTransverseProfile(\n",
    "            central_wavelength,\n",
    "            polarization,\n",
    "            energy_J,\n",
    "            longitudinal_profile,\n",
    "            tmp_transverse_profile,\n",
    "        )\n",
    "    else:                                           # All other modes\n",
    "        laser_profile += modeCoeffs[mode_key] * CombinedLongitudinalTransverseProfile(\n",
    "            central_wavelength,\n",
    "            polarization,\n",
    "            energy_J,\n",
    "            longitudinal_profile,\n",
    "            tmp_transverse_profile,\n",
    "        )\n",
    "\n",
    "# Energy loss due to decomposition\n",
    "energy_loss = 1 - energy_frac\n",
    "print(f\"Energy loss: {energy_loss * 100:.2f}%\")"
   ]
  },
  {
   "cell_type": "markdown",
   "id": "7ea4a49a-a526-44bc-9f34-d308b261ef69",
   "metadata": {},
   "source": [
    "## Plot Denoised Profile"
   ]
  },
  {
   "cell_type": "code",
   "execution_count": null,
   "id": "fcb44ccf-ad2b-4a9b-bc19-9f615d057335",
   "metadata": {},
   "outputs": [],
   "source": [
    "# Create a grid for plotting\n",
    "x               = np.linspace(-5 * waist, 5 * waist, 500)\n",
    "X, Y            = np.meshgrid(x, x)\n",
    "\n",
    "# Determine the figure parameters\n",
    "fig, ax         = plt.subplots(1, 3, figsize=(12, 4), tight_layout=True)\n",
    "fig.suptitle(\n",
    "    \"Hermite-Gauss Reconstruction using n_x_max = %i, n_y_max = %i\" % (n_x_max, n_y_max)\n",
    ")\n",
    "\n",
    "# Plot the original profile\n",
    "pltextent       = (np.min(x) * 1e6, np.max(x) * 1e6, np.min(x) * 1e6, np.max(x) * 1e6)\n",
    "prof1           = np.abs(org_laser_profile.evaluate(X, Y, 0)) ** 2\n",
    "divider0        = make_axes_locatable(ax[0])\n",
    "ax0_cb          = divider0.append_axes(\"right\", size=\"5%\", pad=0.05)\n",
    "pl0             = ax[0].imshow(prof1, cmap=\"magma\", extent=pltextent, vmin=0, vmax=np.max(prof1))\n",
    "cbar0           = fig.colorbar(pl0, cax=ax0_cb)\n",
    "cbar0.set_label(\"Intensity (norm.)\")\n",
    "ax[0].set_xlabel(\"x (micron)\")\n",
    "ax[0].set_ylabel(\"y (micron)\")\n",
    "ax[0].set_title(\"Original Profile\")\n",
    "\n",
    "# Plot the reconstructed profile\n",
    "prof2           = np.abs(laser_profile.evaluate(X, Y, 0)) ** 2\n",
    "divider1        = make_axes_locatable(ax[1])\n",
    "ax1_cb          = divider1.append_axes(\"right\", size=\"5%\", pad=0.05)\n",
    "pl1             = ax[1].imshow(prof2, cmap=\"magma\", extent=pltextent, vmin=0, vmax=np.max(prof1))\n",
    "cbar1           = fig.colorbar(pl1, cax=ax1_cb)\n",
    "cbar1.set_label(\"Intensity (norm.)\")\n",
    "ax[1].set_xlabel(\"x (micron)\")\n",
    "ax[1].set_ylabel(\"y (micron)\")\n",
    "ax[1].set_title(\"Reconstructed Profile\")\n",
    "\n",
    "# Plot the error\n",
    "prof3           = (prof1 - prof2) / np.max(prof1)  # Normalized error\n",
    "divider2        = make_axes_locatable(ax[2])\n",
    "ax2_cb          = divider2.append_axes(\"right\", size=\"5%\", pad=0.05)\n",
    "pl2             = ax[2].imshow(100 * np.abs(prof3), cmap=\"magma\", extent=pltextent)\n",
    "cbar2           = fig.colorbar(pl2, cax=ax2_cb)\n",
    "cbar2.set_label(\"|Intensity Error| (%)\")\n",
    "ax[2].set_xlabel(\"x (micron)\")\n",
    "ax[2].set_ylabel(\"y (micron)\")\n",
    "ax[2].set_title(\"Error\")\n",
    "\n",
    "plt.show()"
   ]
  },
  {
   "cell_type": "markdown",
   "id": "103c9501-3e91-4f9b-a0bb-d3a5e2320d0c",
   "metadata": {},
   "source": [
    "# Create a laser"
   ]
  },
  {
   "cell_type": "markdown",
   "id": "db52cd0e",
   "metadata": {},
   "source": [
    "Now we have done the hard part!\\\n",
    "The only thing that remains now is to create a laser object and export it, to then plug it into any simulation program of your choice!!!"
   ]
  },
  {
   "cell_type": "code",
   "execution_count": null,
   "id": "07be1792",
   "metadata": {},
   "outputs": [],
   "source": [
    "# Create the laser object\n",
    "dimensions  = \"rt\"                  # Use cylindrical geometry\n",
    "lo          = (0,    -50e-15)       # Lower bounds of the simulation box\n",
    "hi          = (40e-6, 50e-15)       # Upper bounds of the simulation box\n",
    "num_points  = (500, 400)            # Number of points in each dimension\n",
    "\n",
    "laser = Laser(dimensions, lo, hi, num_points, laser_profile)    # Laser\n",
    "laser.normalize(energy_J * energy_frac)                         # Normalize the laser energy\n",
    "laser.show()\n",
    "\n",
    "# Save the laser object to a file\n",
    "laser.write_to_file(\"Laser_rt_denoised\",\"h5\",save_as_vector_potential=True)"
   ]
  },
  {
   "cell_type": "markdown",
   "id": "73303f5c",
   "metadata": {},
   "source": [
    "*Constructing the object using 3D geometry, might take a while to run depending on the hardware you are using.*"
   ]
  },
  {
   "cell_type": "code",
   "execution_count": null,
   "id": "6b0f1ffd",
   "metadata": {},
   "outputs": [],
   "source": [
    "dimensions = \"xyt\"  # Use 3D geometry\n",
    "lo              = (-40e-6, -20e-6, -50e-15)     # Lower bounds of the simulation box\n",
    "hi              = (40e-6,   20e-6,  50e-15)        # Upper bounds of the simulation box\n",
    "num_points      = (300, 300, 200)               # Number of points in each dimension\n",
    "# num_points    = (50, 50, 20)                  # Low res for quick tests\n",
    "\n",
    "laser_xyt       = Laser(dimensions, lo, hi, num_points, laser_profile)\n",
    "laser_xyt.normalize(energy_J * energy_frac)\n",
    "laser_xyt.show()\n",
    "\n",
    "# Save the laser object to a file\n",
    "laser_xyt.write_to_file(\"Laser_xyt_denoised\",\"h5\",save_as_vector_potential=True)"
   ]
  },
  {
   "cell_type": "code",
   "execution_count": null,
   "id": "550b1542",
   "metadata": {},
   "outputs": [],
   "source": []
  }
 ],
 "metadata": {
  "kernelspec": {
   "display_name": "Python 3 (ipykernel)",
   "language": "python",
   "name": "python3"
  },
  "language_info": {
   "codemirror_mode": {
    "name": "ipython",
    "version": 3
   },
   "file_extension": ".py",
   "mimetype": "text/x-python",
   "name": "python",
   "nbconvert_exporter": "python",
   "pygments_lexer": "ipython3",
   "version": "3.12.2"
  }
 },
 "nbformat": 4,
 "nbformat_minor": 5
}
